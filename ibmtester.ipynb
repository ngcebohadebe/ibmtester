{
 "cells": [
  {
   "cell_type": "markdown",
   "id": "3b3dabe7",
   "metadata": {},
   "source": [
    "# My Jupyter Notebook on IBM Watson Studio"
   ]
  },
  {
   "cell_type": "markdown",
   "id": "a460536c",
   "metadata": {},
   "source": [
    "__Ngcebo T Hadebe__"
   ]
  },
  {
   "cell_type": "markdown",
   "id": "4e75547b",
   "metadata": {},
   "source": [
    "*Use data Science to assit IFP get get more seats in parliament. I\"ll help optamize the marketing strategy.*"
   ]
  },
  {
   "cell_type": "markdown",
   "id": "be93b6b2",
   "metadata": {},
   "source": [
    "### Python \"Hello World\""
   ]
  },
  {
   "cell_type": "code",
   "execution_count": 6,
   "id": "21a7d6e1",
   "metadata": {},
   "outputs": [
    {
     "name": "stdout",
     "output_type": "stream",
     "text": [
      "Hello World\n"
     ]
    }
   ],
   "source": [
    "print(\"Hello World\")"
   ]
  },
  {
   "cell_type": "markdown",
   "id": "d2166e08",
   "metadata": {},
   "source": [
    "<dl>\n",
    "<dt>This is number ONE.</dt>\n",
    "<dd>1. This comes first.</dd>\n",
    "<dt>This is number two.</dt>\n",
    "<dd>2. This come second.</dd>\n",
    "</dl>"
   ]
  },
  {
   "cell_type": "markdown",
   "id": "f4c3dc56",
   "metadata": {},
   "source": [
    "* Thrid\n",
    "* Fourth"
   ]
  },
  {
   "cell_type": "markdown",
   "id": "5bd11e4e",
   "metadata": {},
   "source": [
    "| |First Name | Middle Name| Surname|\n",
    "|--| --- | --- | --- |\n",
    "|1| Ngcebo | Themba | Hadebe |\n",
    "|2| Siphelele | Lawrencia | Hadebe |"
   ]
  },
  {
   "cell_type": "code",
   "execution_count": null,
   "id": "decd1f85",
   "metadata": {},
   "outputs": [],
   "source": []
  },
  {
   "cell_type": "code",
   "execution_count": null,
   "id": "cb338eba",
   "metadata": {},
   "outputs": [],
   "source": []
  }
 ],
 "metadata": {
  "kernelspec": {
   "display_name": "Python 3 (ipykernel)",
   "language": "python",
   "name": "python3"
  },
  "language_info": {
   "codemirror_mode": {
    "name": "ipython",
    "version": 3
   },
   "file_extension": ".py",
   "mimetype": "text/x-python",
   "name": "python",
   "nbconvert_exporter": "python",
   "pygments_lexer": "ipython3",
   "version": "3.9.12"
  }
 },
 "nbformat": 4,
 "nbformat_minor": 5
}
